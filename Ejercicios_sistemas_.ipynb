{
  "nbformat": 4,
  "nbformat_minor": 0,
  "metadata": {
    "colab": {
      "provenance": [],
      "authorship_tag": "ABX9TyPLgpVLm38VNQshN4DHl8C6",
      "include_colab_link": true
    },
    "kernelspec": {
      "name": "python3",
      "display_name": "Python 3"
    },
    "language_info": {
      "name": "python"
    }
  },
  "cells": [
    {
      "cell_type": "markdown",
      "metadata": {
        "id": "view-in-github",
        "colab_type": "text"
      },
      "source": [
        "<a href=\"https://colab.research.google.com/github/josedavidpazos/JP/blob/main/Ejercicios_sistemas_.ipynb\" target=\"_parent\"><img src=\"https://colab.research.google.com/assets/colab-badge.svg\" alt=\"Open In Colab\"/></a>"
      ]
    },
    {
      "cell_type": "markdown",
      "source": [
        "1. Write a program that displays the result of the following arithmetic operation on the screen:  x(t)=(3+22.5)2"
      ],
      "metadata": {
        "id": "7HAv7LrKMcMG"
      }
    },
    {
      "cell_type": "code",
      "source": [
        "a=((3+2)/2.5)**2\n",
        "a"
      ],
      "metadata": {
        "id": "DYIs5bv57aMv",
        "outputId": "25d4c291-7182-4e96-ae58-f33b93944c49",
        "colab": {
          "base_uri": "https://localhost:8080/"
        }
      },
      "execution_count": 1,
      "outputs": [
        {
          "output_type": "execute_result",
          "data": {
            "text/plain": [
              "4.0"
            ]
          },
          "metadata": {},
          "execution_count": 1
        }
      ]
    },
    {
      "cell_type": "markdown",
      "source": [
        "2. Write a program that asks the user for the number of hours worked and the hourly rate. Then, it should display on the screen the corresponding payment."
      ],
      "metadata": {
        "id": "IxfjSzBFQTvU"
      }
    },
    {
      "cell_type": "code",
      "source": [
        "A=input(\"cuantas horas trabajo?: \")\n",
        "a=float(A)\n",
        "B=input(\"que precio tiene la hora?: \")\n",
        "b=float(B)\n",
        "pr=a*b\n",
        "print(f\"su pago correspondiente es: {pr}\" )"
      ],
      "metadata": {
        "colab": {
          "base_uri": "https://localhost:8080/"
        },
        "id": "7DKpV1kjv5rX",
        "outputId": "580ca376-43ce-41d4-feb0-c68d511b929e"
      },
      "execution_count": 2,
      "outputs": [
        {
          "output_type": "stream",
          "name": "stdout",
          "text": [
            "cuantas horas trabajo?: 5\n",
            "que precio tiene la hora?: 100\n",
            "su pago correspondiente es: 500.0\n"
          ]
        }
      ]
    },
    {
      "cell_type": "markdown",
      "source": [
        "3. Write a program that asks the user for their weight (in kg) and height (in meters), calculates the body mass index (BMI), stores it in a variable, and displays the message \"Your body mass index is imc\" on the screen, where imc is the calculated BMI rounded to two decimal places."
      ],
      "metadata": {
        "id": "NchQA3wpQvRd"
      }
    },
    {
      "cell_type": "code",
      "source": [
        "X=input(\"digite su peso en kg: \")\n",
        "x=float(X)\n",
        "Y=input(\"digite su altura en mts: \")\n",
        "y=float(Y)\n",
        "M=x/(y**2)\n",
        "print(f\"su IMC es: \",round(M,2))\n"
      ],
      "metadata": {
        "colab": {
          "base_uri": "https://localhost:8080/"
        },
        "id": "IrW1ObaUwgAK",
        "outputId": "22b97da7-2bad-4938-e8c1-733cf0f9e53a"
      },
      "execution_count": 7,
      "outputs": [
        {
          "output_type": "stream",
          "name": "stdout",
          "text": [
            "digite su peso en kg: 50\n",
            "digite su altura en mts: 1.7\n",
            "su IMC es:  17.3\n"
          ]
        }
      ]
    },
    {
      "cell_type": "markdown",
      "source": [
        "4. In order to pay a certain tax, you must be over 16 years old and have a monthly income equal to or greater than €1000. Write a program that asks the user for their age and monthly income, and displays whether the user has to pay the tax or not."
      ],
      "metadata": {
        "id": "n5JzkB-SSIhO"
      }
    },
    {
      "cell_type": "code",
      "source": [
        "A = input(\"que edad tiene)\" )\n",
        "a=int(A)\n",
        "B = input(\"cuantos ingresos mensuales tiene?\" )\n",
        "b=float(B)\n",
        "if (a > 16) and (b >= 1000):\n",
        "  print(\"Usted tiene que pagar el impuesto\")\n",
        "else:\n",
        "  print(\"Usted no tiene que pagar el impuesto\")"
      ],
      "metadata": {
        "id": "KIWL9EGb7SIR",
        "colab": {
          "base_uri": "https://localhost:8080/"
        },
        "outputId": "6ebef71d-dba9-4e2d-cf72-5501a72ecf9f"
      },
      "execution_count": 8,
      "outputs": [
        {
          "output_type": "stream",
          "name": "stdout",
          "text": [
            "que edad tiene)16\n",
            "cuantos ingresos mensuales tiene?1000\n",
            "Usted no tiene que pagar el impuesto\n"
          ]
        }
      ]
    },
    {
      "cell_type": "markdown",
      "source": [
        "5. The Bella Napoli pizzeria offers vegetarian and non-vegetarian pizzas to its customers. The ingredients for each type of pizza are as follows:\n",
        "\n",
        "Vegetarian ingredients: Bell peppers and tofu.\n",
        "\n",
        "Non-vegetarian ingredients: Pepperoni, Ham, and Salmon.\n",
        "\n",
        "Write a program that asks the user if they want a vegetarian pizza or not, and based on their response, displays a menu with the available ingredients for them to choose from. Only one additional ingredient can be chosen besides the mozzarella and tomato, which are included in all pizzas. Finally, the program should display whether the chosen pizza is vegetarian or not, along with all the ingredients it contains."
      ],
      "metadata": {
        "id": "oT0a3DfYSe0o"
      }
    },
    {
      "cell_type": "code",
      "source": [
        "pizza=input(\"Desea su pizza vegetarian S/N : \").upper()\n",
        "\n",
        "if pizza==\"S\":\n",
        "  print(\"Ingredientes adicionales:\\npimientos\\nTofu\")\n",
        "  ing=input(\"Ingrese el ingrediente adicional que desea: \")\n",
        "\n",
        "  print(f\"Su pizza es vegetariana y contiene mozzarella, tomate y {ing}\")\n",
        "else:\n",
        "  print(\"Ingredientes adicionales:\\nPepperoni\\nJamón\\nSalmón\")\n",
        "  ing=input(\"Ingrese el ingrediente adicional que desea: \")\n",
        "  print(f\"Su pizza no es vegetariana y contiene mozzarella, tomate y {ing}\")"
      ],
      "metadata": {
        "id": "0hKMuhl1EUmh",
        "colab": {
          "base_uri": "https://localhost:8080/"
        },
        "outputId": "5bd91f98-2f80-4840-eea4-856363f250e0"
      },
      "execution_count": 9,
      "outputs": [
        {
          "output_type": "stream",
          "name": "stdout",
          "text": [
            "Desea su pizza vegetarian S/N : s\n",
            "Ingredientes adicionales:\n",
            "pimientos\n",
            "Tofu\n",
            "Ingrese el ingrediente adicional que desea: Tofu\n",
            "Su pizza es vegetariana y contiene mozzarella, tomate y Tofu\n"
          ]
        }
      ]
    },
    {
      "cell_type": "markdown",
      "source": [
        "6. Write a code that ask the user to enter an integer number every time, and the process will be repeated with more numbers until the user enters a zero.\n",
        "\n",
        "At the end (when the zero is entered), show the amount of numbers entered."
      ],
      "metadata": {
        "id": "pm5HN_E_TCl-"
      }
    },
    {
      "cell_type": "code",
      "source": [
        "counter = 0\n",
        "Y=int(input(\"digite un número entero: \"))\n",
        "counter +=1\n",
        "while Y != 0 :\n",
        "    counter+=1\n",
        "    Y=int(input(\"digite un número entero: \"))\n",
        "print(f\"usted digito {counter} números enteros\")\n",
        "\n"
      ],
      "metadata": {
        "id": "glUOgM5V4ed2",
        "outputId": "33633dab-f607-486a-84d4-946566bc9f0b",
        "colab": {
          "base_uri": "https://localhost:8080/"
        }
      },
      "execution_count": 10,
      "outputs": [
        {
          "output_type": "stream",
          "name": "stdout",
          "text": [
            "digite un número entero: 20\n",
            "digite un número entero: 25\n",
            "digite un número entero: 10\n",
            "digite un número entero: 40\n",
            "digite un número entero: 0\n",
            "usted digito 5 números enteros\n"
          ]
        }
      ]
    },
    {
      "cell_type": "markdown",
      "source": [
        "7. Use the input() function to ask for the user to enter one integer number. Only if the number is even, it will be accumulated.\n",
        "\n",
        "The program must come to an end if the sum of the numbers surpasses 50 or if the user enters a maximum of 10 numbers."
      ],
      "metadata": {
        "id": "592KnT3mTegN"
      }
    },
    {
      "cell_type": "code",
      "source": [
        "contador=0\n",
        "acumulador=0\n",
        "while (contador <=9) and (acumulador < 51):\n",
        "  x=int(input(\"Digite un numero entero: \"))\n",
        "  if x % 2 == 0:\n",
        "    acumulador += x\n",
        "    contador +=1\n",
        "  else:\n",
        "    contador += 1\n",
        "\n",
        "print(contador,acumulador)"
      ],
      "metadata": {
        "id": "GCMW9SloCbz3",
        "outputId": "90f4d6eb-c158-484f-abdf-21a2d0fdcce6",
        "colab": {
          "base_uri": "https://localhost:8080/"
        }
      },
      "execution_count": 11,
      "outputs": [
        {
          "output_type": "stream",
          "name": "stdout",
          "text": [
            "Digite un numero entero: 40\n",
            "Digite un numero entero: 20\n",
            "2 60\n"
          ]
        }
      ]
    }
  ]
}